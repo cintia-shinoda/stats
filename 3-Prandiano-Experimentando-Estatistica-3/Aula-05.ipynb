{
 "cells": [
  {
   "cell_type": "markdown",
   "id": "9936938b",
   "metadata": {},
   "source": [
    "## Aula 05"
   ]
  },
  {
   "cell_type": "markdown",
   "id": "2ac23b70",
   "metadata": {},
   "source": [
    "### A-Adaboost"
   ]
  },
  {
   "cell_type": "markdown",
   "id": "37b47350",
   "metadata": {},
   "source": [
    "- Adaptative Boosting\n",
    "- Pré-Machine Learning\n",
    "- Data Classifier Algorithm\n",
    "- Weak *versus* Strong, Data Classifier\n",
    "- Uso Comercial e Científico"
   ]
  },
  {
   "cell_type": "markdown",
   "id": "2d381446",
   "metadata": {},
   "source": []
  }
 ],
 "metadata": {
  "language_info": {
   "name": "python"
  }
 },
 "nbformat": 4,
 "nbformat_minor": 5
}
