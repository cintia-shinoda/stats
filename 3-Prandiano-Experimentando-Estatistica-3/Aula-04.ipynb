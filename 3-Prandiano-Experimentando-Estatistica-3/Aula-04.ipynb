{
 "cells": [
  {
   "cell_type": "markdown",
   "metadata": {},
   "source": [
    "## Aula 4 - 16/03/2025"
   ]
  },
  {
   "cell_type": "markdown",
   "metadata": {},
   "source": [
    "### D-Diana\n",
    "- Divisive Analysis\n",
    "- Hierarchical Clustering\n",
    "- Esvaziamento Divisivo de Dados\n",
    "- Estatística Top-Down Approach\n",
    "- Particionamento de Dados\n",
    "- Aprendizado Não-Supervisionado\n",
    "\n",
    "### $\\theta$-Rock"
   ]
  },
  {
   "cell_type": "markdown",
   "metadata": {},
   "source": []
  }
 ],
 "metadata": {
  "language_info": {
   "name": "python"
  }
 },
 "nbformat": 4,
 "nbformat_minor": 2
}
