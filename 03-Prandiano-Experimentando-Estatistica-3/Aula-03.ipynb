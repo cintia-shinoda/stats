{
 "cells": [
  {
   "cell_type": "markdown",
   "id": "2f7c0af8",
   "metadata": {},
   "source": [
    "# Aula 3 - 23/02/2025"
   ]
  },
  {
   "cell_type": "markdown",
   "id": "d5ea071e",
   "metadata": {},
   "source": [
    "**D-Dimensão**\n",
    "- Ajustes da Dimensionalidade de Bancos de Dados\n",
    "- Formatação de Hiperparâmetros\n",
    "- Função Kernel Transformativa\n",
    "- Estatística da Visualização de Dados"
   ]
  },
  {
   "cell_type": "markdown",
   "id": "9795fa52",
   "metadata": {},
   "source": []
  }
 ],
 "metadata": {
  "language_info": {
   "name": "python"
  }
 },
 "nbformat": 4,
 "nbformat_minor": 5
}
