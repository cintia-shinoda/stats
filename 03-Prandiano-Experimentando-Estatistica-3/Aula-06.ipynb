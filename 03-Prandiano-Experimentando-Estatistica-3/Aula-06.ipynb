{
 "cells": [
  {
   "cell_type": "markdown",
   "id": "483ea0bf",
   "metadata": {},
   "source": [
    "# Aula 05 - 18/05/2025"
   ]
  },
  {
   "cell_type": "markdown",
   "id": "56281e27",
   "metadata": {},
   "source": [
    "## C-Comparator  (H-Divergence?)\n",
    "\n",
    "- Distance Classifiers\n",
    "- Teoria das Medidas\n",
    "- Distribuições de Probabilidades\n",
    "- Hellinger and Bhattacharyya"
   ]
  },
  {
   "cell_type": "markdown",
   "id": "cb5a2f41",
   "metadata": {},
   "source": []
  },
  {
   "cell_type": "markdown",
   "id": "b58e945a",
   "metadata": {},
   "source": [
    "### Modelo Tipificatio (tipificação)"
   ]
  },
  {
   "cell_type": "markdown",
   "id": "03ed3562",
   "metadata": {},
   "source": []
  },
  {
   "cell_type": "markdown",
   "id": "62a17056",
   "metadata": {},
   "source": [
    "## I-Matrix\n",
    "- Método das Potências\n",
    "- Autovalores e Autovetores\n",
    "- Iterações Numéricas\n",
    "- Richard Edler von Mises e Hilda von Mises"
   ]
  },
  {
   "cell_type": "markdown",
   "id": "13521835",
   "metadata": {},
   "source": []
  },
  {
   "cell_type": "markdown",
   "id": "7a44b8f9",
   "metadata": {},
   "source": [
    "### Modelo Indicatio"
   ]
  },
  {
   "cell_type": "markdown",
   "id": "0434990a",
   "metadata": {},
   "source": []
  }
 ],
 "metadata": {
  "language_info": {
   "name": "python"
  }
 },
 "nbformat": 4,
 "nbformat_minor": 5
}
