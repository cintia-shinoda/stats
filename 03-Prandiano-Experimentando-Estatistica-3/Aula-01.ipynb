{
 "cells": [
  {
   "cell_type": "markdown",
   "id": "db0f5d07",
   "metadata": {},
   "source": [
    "# Aula 1 - 01/12/2024"
   ]
  },
  {
   "cell_type": "markdown",
   "id": "592170e3",
   "metadata": {},
   "source": [
    "**G-Guessing**\n",
    "- Missing Data\n",
    "- Corrupted Values\n",
    "- Incomplete Data\n",
    "- Reconstruindo Dados Falhos\n",
    "- Aplicações Guessing em Banco de Dados Corrompidos\n",
    "\n",
    "**S-Spline**\n",
    "- Spline Curve Fitting\n",
    "- Piecewise Polynomial\n",
    "- MMQ Intervalar Beyond Target\n",
    "- MMQ Intervalar Under Target\n",
    "- Aplicações Spline\n",
    "\n",
    "**R-Retalho**\n",
    "- Topological Patches\n",
    "- Statistical Parametric Curve\n",
    "- Topologias Corrompidas"
   ]
  }
 ],
 "metadata": {
  "language_info": {
   "name": "python"
  }
 },
 "nbformat": 4,
 "nbformat_minor": 5
}
