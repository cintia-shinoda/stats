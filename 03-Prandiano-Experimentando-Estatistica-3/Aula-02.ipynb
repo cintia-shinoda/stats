{
 "cells": [
  {
   "cell_type": "markdown",
   "id": "38a367f7",
   "metadata": {},
   "source": [
    "# Aula 2 - 16/01/2025"
   ]
  },
  {
   "cell_type": "markdown",
   "id": "5106b129",
   "metadata": {},
   "source": [
    "**L-Lagrange**\n",
    "\n",
    "**$\\alpha$-SGD**\n",
    "\n",
    "**M-Analysis**"
   ]
  },
  {
   "cell_type": "markdown",
   "id": "d3b8571c",
   "metadata": {},
   "source": []
  }
 ],
 "metadata": {
  "language_info": {
   "name": "python"
  }
 },
 "nbformat": 4,
 "nbformat_minor": 5
}
